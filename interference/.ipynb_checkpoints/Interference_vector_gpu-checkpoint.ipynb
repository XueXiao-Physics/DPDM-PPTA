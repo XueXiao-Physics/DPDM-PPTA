{
 "cells": [
  {
   "cell_type": "code",
   "execution_count": 2,
   "metadata": {},
   "outputs": [],
   "source": [
    "#import scipy.stats as ss\n",
    "import matplotlib.pyplot as plt\n",
    "import cupy as cp\n",
    "import cupy.random as cr\n",
    "from tqdm import tqdm\n",
    "import time\n",
    "\n",
    "import numpy\n",
    "import scipy.stats as ss"
   ]
  },
  {
   "cell_type": "code",
   "execution_count": 42,
   "metadata": {},
   "outputs": [],
   "source": [
    "\n",
    "\n",
    "def vec_particle_gen(vp,nParticles):\n",
    "\n",
    "    # Generate particles with maxwell distribution              \n",
    "    # vp is the most probable speed of the maxwell distribution \n",
    "\n",
    "    \n",
    "    velocity_vec = (vp/cp.sqrt(2))*cr.normal( size = (3,1,nParticles) )\n",
    "    \n",
    "    phase_vec = cr.uniform(  size = (1,1,nParticles) )*2*cp.pi\n",
    "    \n",
    "    amp_vec =  cr.normal( size = (3,1,nParticles) )\n",
    "    \n",
    "    normfac = 1/cp.sqrt(cp.sum(amp_vec[:,0,:]**2,axis=0))\n",
    "    \n",
    "    amp_vec[:,0,:] =  amp_vec[:,0,:]*cp.tile(normfac,(3,1))    \n",
    "\n",
    "    \n",
    "    return velocity_vec, amp_vec , phase_vec\n",
    "\n",
    "def vector_random_walk(tX,omega,K,amp,phase):\n",
    "    \n",
    "\n",
    "\n",
    "    nParticles = omega.shape[2]\n",
    "    nPoints = tX.shape[1]\n",
    "    ret = cp.ndarray( (3,nPoints ) )\n",
    "    \n",
    "    phase_tensor = cp.tile(phase,(1,nPoints,1))\n",
    "    amp_tensor = cp.tile(amp,(1,nPoints,1))\n",
    "                     \n",
    "    for i in [0,1,2]:          \n",
    "        ret[i,:] = cp.sum( amp_tensor[i,:,:]*cp.sin(cp.outer(tX[0,:],omega[0,0,:]) \n",
    "                                  - cp.matmul(tX[1:,:].transpose(),K[:,0,:])\n",
    "                                  + phase_tensor[:,0,:]), axis=1) \n",
    "    return ret\n",
    "\n",
    "\n"
   ]
  },
  {
   "cell_type": "markdown",
   "metadata": {},
   "source": [
    "Statistics."
   ]
  },
  {
   "cell_type": "code",
   "execution_count": 43,
   "metadata": {
    "scrolled": true,
    "tags": [
     "main"
    ]
   },
   "outputs": [
    {
     "name": "stderr",
     "output_type": "stream",
     "text": [
      " 34%|███▎      | 33632/100000 [02:23<04:45, 232.48it/s]"
     ]
    },
    {
     "ename": "KeyboardInterrupt",
     "evalue": "",
     "output_type": "error",
     "traceback": [
      "\u001b[0;31m---------------------------------------------------------------------------\u001b[0m",
      "\u001b[0;31mKeyboardInterrupt\u001b[0m                         Traceback (most recent call last)",
      "\u001b[0;32m<ipython-input-43-49ae1ec30bd2>\u001b[0m in \u001b[0;36m<module>\u001b[0;34m\u001b[0m\n\u001b[1;32m     47\u001b[0m     \u001b[0mPhis\u001b[0m\u001b[0;34m[\u001b[0m\u001b[0;36m0\u001b[0m\u001b[0;34m,\u001b[0m\u001b[0mi\u001b[0m\u001b[0;34m]\u001b[0m \u001b[0;34m=\u001b[0m \u001b[0mtlist\u001b[0m\u001b[0;34m[\u001b[0m\u001b[0mcp\u001b[0m\u001b[0;34m.\u001b[0m\u001b[0mwhere\u001b[0m\u001b[0;34m(\u001b[0m\u001b[0mcp\u001b[0m\u001b[0;34m.\u001b[0m\u001b[0mmax\u001b[0m\u001b[0;34m(\u001b[0m\u001b[0mRet\u001b[0m\u001b[0;34m[\u001b[0m\u001b[0;36m0\u001b[0m\u001b[0;34m]\u001b[0m\u001b[0;34m)\u001b[0m \u001b[0;34m==\u001b[0m \u001b[0mRet\u001b[0m\u001b[0;34m[\u001b[0m\u001b[0;36m0\u001b[0m\u001b[0;34m]\u001b[0m\u001b[0;34m)\u001b[0m\u001b[0;34m[\u001b[0m\u001b[0;36m0\u001b[0m\u001b[0;34m]\u001b[0m\u001b[0;34m[\u001b[0m\u001b[0;36m0\u001b[0m\u001b[0;34m]\u001b[0m\u001b[0;34m]\u001b[0m\u001b[0;34m*\u001b[0m\u001b[0;36m2\u001b[0m\u001b[0;34m*\u001b[0m\u001b[0mcp\u001b[0m\u001b[0;34m.\u001b[0m\u001b[0mpi\u001b[0m\u001b[0;34m\u001b[0m\u001b[0;34m\u001b[0m\u001b[0m\n\u001b[1;32m     48\u001b[0m     \u001b[0mPhis\u001b[0m\u001b[0;34m[\u001b[0m\u001b[0;36m1\u001b[0m\u001b[0;34m,\u001b[0m\u001b[0mi\u001b[0m\u001b[0;34m]\u001b[0m \u001b[0;34m=\u001b[0m \u001b[0mtlist\u001b[0m\u001b[0;34m[\u001b[0m\u001b[0mcp\u001b[0m\u001b[0;34m.\u001b[0m\u001b[0mwhere\u001b[0m\u001b[0;34m(\u001b[0m\u001b[0mcp\u001b[0m\u001b[0;34m.\u001b[0m\u001b[0mmax\u001b[0m\u001b[0;34m(\u001b[0m\u001b[0mRet\u001b[0m\u001b[0;34m[\u001b[0m\u001b[0;36m1\u001b[0m\u001b[0;34m]\u001b[0m\u001b[0;34m)\u001b[0m \u001b[0;34m==\u001b[0m \u001b[0mRet\u001b[0m\u001b[0;34m[\u001b[0m\u001b[0;36m1\u001b[0m\u001b[0;34m]\u001b[0m\u001b[0;34m)\u001b[0m\u001b[0;34m[\u001b[0m\u001b[0;36m0\u001b[0m\u001b[0;34m]\u001b[0m\u001b[0;34m[\u001b[0m\u001b[0;36m0\u001b[0m\u001b[0;34m]\u001b[0m\u001b[0;34m]\u001b[0m\u001b[0;34m*\u001b[0m\u001b[0;36m2\u001b[0m\u001b[0;34m*\u001b[0m\u001b[0mcp\u001b[0m\u001b[0;34m.\u001b[0m\u001b[0mpi\u001b[0m\u001b[0;34m\u001b[0m\u001b[0;34m\u001b[0m\u001b[0m\n\u001b[0;32m---> 49\u001b[0;31m     \u001b[0mPhis\u001b[0m\u001b[0;34m[\u001b[0m\u001b[0;36m2\u001b[0m\u001b[0;34m,\u001b[0m\u001b[0mi\u001b[0m\u001b[0;34m]\u001b[0m \u001b[0;34m=\u001b[0m \u001b[0mtlist\u001b[0m\u001b[0;34m[\u001b[0m\u001b[0mcp\u001b[0m\u001b[0;34m.\u001b[0m\u001b[0mwhere\u001b[0m\u001b[0;34m(\u001b[0m\u001b[0mcp\u001b[0m\u001b[0;34m.\u001b[0m\u001b[0mmax\u001b[0m\u001b[0;34m(\u001b[0m\u001b[0mRet\u001b[0m\u001b[0;34m[\u001b[0m\u001b[0;36m2\u001b[0m\u001b[0;34m]\u001b[0m\u001b[0;34m)\u001b[0m \u001b[0;34m==\u001b[0m \u001b[0mRet\u001b[0m\u001b[0;34m[\u001b[0m\u001b[0;36m2\u001b[0m\u001b[0;34m]\u001b[0m\u001b[0;34m)\u001b[0m\u001b[0;34m[\u001b[0m\u001b[0;36m0\u001b[0m\u001b[0;34m]\u001b[0m\u001b[0;34m[\u001b[0m\u001b[0;36m0\u001b[0m\u001b[0;34m]\u001b[0m\u001b[0;34m]\u001b[0m\u001b[0;34m*\u001b[0m\u001b[0;36m2\u001b[0m\u001b[0;34m*\u001b[0m\u001b[0mcp\u001b[0m\u001b[0;34m.\u001b[0m\u001b[0mpi\u001b[0m\u001b[0;34m\u001b[0m\u001b[0;34m\u001b[0m\u001b[0m\n\u001b[0m\u001b[1;32m     50\u001b[0m \u001b[0;34m\u001b[0m\u001b[0m\n",
      "\u001b[0;31mKeyboardInterrupt\u001b[0m: "
     ]
    }
   ],
   "source": [
    "'''\n",
    "Get the marginal distribution\n",
    "'''\n",
    "vp=1e-3\n",
    "log10m = -22\n",
    "m=10**log10m\n",
    "\n",
    "t_corr = 2*cp.pi/m\n",
    "l_dB = 2*cp.pi/m/vp\n",
    "#ev2kpc = 3.0857e19 /1.973e-7\n",
    "\n",
    "\n",
    "nPoints = 16\n",
    "\n",
    "tx = cp.zeros((4,nPoints))\n",
    "tlist= cp.linspace(0,1,nPoints+1)\n",
    "tx[0,:] = tlist[:-1]*t_corr\n",
    "\n",
    "nParticles = 2**14 # gpu is generally faster than cpu when n is large\n",
    "output=[]\n",
    "\n",
    "nSimulation= 100000\n",
    "Amps = cp.ndarray((3,nSimulation))\n",
    "Phis = cp.ndarray((3,nSimulation))\n",
    "\n",
    "\n",
    "'''\n",
    "Main:\n",
    "'''\n",
    "for i in tqdm(range(nSimulation)):\n",
    "    \n",
    "    v,a,p=vec_particle_gen(vp,nParticles)\n",
    "    \n",
    "    # Physical values   \n",
    "    m = 10**log10m # eV\n",
    "    K = m*v\n",
    "\n",
    "    # From K to omega\n",
    "    omega = cp.ndarray((1,nPoints,nParticles))\n",
    "    omega[0,:,:] = cp.sqrt(cp.sum(K*K,axis=0)+m**2)\n",
    "    \n",
    "    #Retx(3,nPoints)\n",
    "    Ret = vector_random_walk(tx,omega,K,a,p)\n",
    "    \n",
    "    #results(3,nSimulation)\n",
    "    Amps[:,i] = 2 * cp.sum(Ret*Ret,axis=1)/nPoints #  mean value over time\n",
    "    Phis[0,i] = tlist[cp.where(cp.max(Ret[0]) == Ret[0])[0][0]]*2*cp.pi\n",
    "    Phis[1,i] = tlist[cp.where(cp.max(Ret[1]) == Ret[1])[0][0]]*2*cp.pi\n",
    "    Phis[2,i] = tlist[cp.where(cp.max(Ret[2]) == Ret[2])[0][0]]*2*cp.pi\n",
    "\n"
   ]
  },
  {
   "cell_type": "code",
   "execution_count": 10,
   "metadata": {
    "tags": [
     "plot",
     "histogram",
     "output"
    ]
   },
   "outputs": [
    {
     "data": {
      "image/png": "[encoded data removed]",
      "text/plain": [
       "<Figure size 432x288 with 1 Axes>"
      ]
     },
     "metadata": {
      "needs_background": "light"
     },
     "output_type": "display_data"
    }
   ],
   "source": [
    "# Data processing\n",
    "# Fit with gamma functions\n",
    "y=Amps[1,:]\n",
    "y=y/cp.mean(y)\n",
    "y=cp.asnumpy(cp.sqrt(y))\n",
    "\n",
    "\n",
    "plt.figure(figsize=(6,4))\n",
    "# Histogram\n",
    "Pr,bins,fig=plt.hist(y,30,density=True,label=\"Marginal Distribution of $A_{0}$\",color=\"steelblue\");\n",
    "midbins = numpy.diff(bins)/2.+bins[:-1]\n",
    "\n",
    "# curve fit\n",
    "a,loc,scale = ss.gamma.fit(y,floc=0)\n",
    "Pr_fit = ss.gamma.pdf(x=midbins,a=a,loc=loc,scale=scale)\n",
    "\n",
    "plt.plot(midbins,Pr_fit,'black',linewidth=6,alpha=0.6,label='Gamma Fit')\n",
    "plt.annotate(s=\"a = %.3f\\n  scale = %.3f\"%(a,scale),\n",
    "             horizontalalignment=\"right\",\n",
    "         bbox=dict(boxstyle=\"round\",fc=\"w\"),xy=(0.98,0.5),xycoords='axes fraction',size=10)\n",
    "plt.xlabel(\"Normalized $A_0$\")\n",
    "plt.ylabel(\"$Pr(A_0)$\")\n",
    "plt.legend()\n",
    "plt.savefig('GammaFit.pdf')"
   ]
  },
  {
   "cell_type": "code",
   "execution_count": null,
   "metadata": {},
   "outputs": [],
   "source": [
    "# Check the linear combination of A_i\n",
    "# Ak=np.sqrt((Ax**2+Ay**2+2*Ax*Ay*np.sin(Phix+Phiy))/2.)"
   ]
  },
  {
   "cell_type": "code",
   "execution_count": 39,
   "metadata": {},
   "outputs": [
    {
     "name": "stderr",
     "output_type": "stream",
     "text": [
      "100%|██████████| 10000/10000 [01:04<00:00, 154.66it/s]\n"
     ]
    }
   ],
   "source": [
    "'''\n",
    "COHERENCE\n",
    "\n",
    "Check the space coherence\n",
    "'''\n",
    "vp=1e-3\n",
    "log10m = -22\n",
    "m=10**log10m\n",
    "\n",
    "t_corr = 2*cp.pi/m\n",
    "l_dB = 2*cp.pi/m/vp\n",
    "#ev2kpc = 3.0857e19 /1.973e-7\n",
    "\n",
    "\n",
    "nPoints = 16\n",
    "\n",
    "tx = cp.zeros((4,nPoints))\n",
    "tlist= cp.linspace(0,1,nPoints+1)\n",
    "tx[0,:] = tlist[:-1]*t_corr\n",
    "\n",
    "ty = cp.zeros((4,nPoints))\n",
    "ty[0,:] = tlist[:-1]*t_corr\n",
    "ty[1,:] = cp.tile(l_dB,nPoints)*0.08\n",
    "\n",
    "nParticles = 2**8\n",
    "output=[]\n",
    "\n",
    "nSimulation= 10000\n",
    "Amps_x = cp.ndarray((3,nSimulation))\n",
    "Phis_x = cp.ndarray((3,nSimulation))\n",
    "Amps_y = cp.ndarray((3,nSimulation))\n",
    "Phis_y = cp.ndarray((3,nSimulation))\n",
    "\n",
    "'''\n",
    "Main:\n",
    "'''\n",
    "for i in tqdm(range(nSimulation)):\n",
    "    v,a,p=vec_particle_gen(vp,nParticles)\n",
    "\n",
    "    # Physical values   \n",
    "    m = 10**log10m # eV\n",
    "    K = m*v\n",
    "\n",
    "    # From K to omega\n",
    "    omega = cp.ndarray((1,1,nParticles))\n",
    "    omega[0,:,:] = cp.sqrt(cp.sum(K*K,axis=0)+m**2)\n",
    "\n",
    "    #Retx(3,nPoints)\n",
    "\n",
    "    Ret_x = vector_random_walk(tx,omega,K,a,p)\n",
    "    Ret_y = vector_random_walk(ty,omega,K,a,p)\n",
    "    \n",
    "    #results(3,nSimulation)\n",
    "    Amps_x[:,i] = 2 * cp.sum(Ret_x*Ret_x,axis=1)/nPoints #  mean value over time\n",
    "    Phis_x[0,i] = tlist[cp.where(cp.max(Ret_x[0]) == Ret_x[0])[0][0]]*2*cp.pi\n",
    "    Phis_x[1,i] = tlist[cp.where(cp.max(Ret_x[1]) == Ret_x[1])[0][0]]*2*cp.pi\n",
    "    Phis_x[2,i] = tlist[cp.where(cp.max(Ret_x[2]) == Ret_x[2])[0][0]]*2*cp.pi\n",
    "    \n",
    "    Amps_y[:,i] = 2 * cp.sum(Ret_y*Ret_y,axis=1)/nPoints #  mean value over time\n",
    "    Phis_y[0,i] = tlist[cp.where(cp.max(Ret_y[0]) == Ret_y[0])[0][0]]*2*cp.pi\n",
    "    Phis_y[1,i] = tlist[cp.where(cp.max(Ret_y[1]) == Ret_y[1])[0][0]]*2*cp.pi\n",
    "    Phis_y[2,i] = tlist[cp.where(cp.max(Ret_y[2]) == Ret_y[2])[0][0]]*2*cp.pi\n"
   ]
  },
  {
   "cell_type": "code",
   "execution_count": 41,
   "metadata": {},
   "outputs": [
    {
     "name": "stdout",
     "output_type": "stream",
     "text": [
      "[array(0.98779625), array(-0.01583313), array(0.77430505), array(-2.82104424e-05), array(-0.00656204), array(0.01403875)]\n"
     ]
    }
   ],
   "source": [
    "'''\n",
    "Calculate the correlation !!!\n",
    "'''\n",
    "\n",
    "a = Amps_x[0,:]\n",
    "b = Amps_y[0,:]\n",
    "c = Amps_y[1,:]\n",
    "d = Phis_x[0,:]\n",
    "e = Phis_y[0,:]\n",
    "f = Phis_y[1,:]\n",
    "results=[]\n",
    "for (x2,y2) in [(a,b),(a,c),(d,e),(d,f),(a,e),(a,f)]:\n",
    "\n",
    "    x = cp.sqrt(x2)\n",
    "    y = cp.sqrt(y2)\n",
    "\n",
    "    m_x2 = cp.mean(x2)\n",
    "    m_x = cp.mean(x)\n",
    "    m_y2 = cp.mean(y2)\n",
    "    m_y = cp.mean(y)\n",
    "\n",
    "    sig_x = cp.sqrt(m_x2-m_x**2)\n",
    "    sig_y = cp.sqrt(m_y2-m_y**2)\n",
    "\n",
    "    results.append(cp.mean((x-m_x)*(y-m_y))/sig_x/sig_y)\n",
    "\n",
    "print(results)"
   ]
  },
  {
   "cell_type": "code",
   "execution_count": 24,
   "metadata": {},
   "outputs": [
    {
     "ename": "SyntaxError",
     "evalue": "invalid syntax (<ipython-input-24-341ec7f7ebd7>, line 5)",
     "output_type": "error",
     "traceback": [
      "\u001b[0;36m  File \u001b[0;32m\"<ipython-input-24-341ec7f7ebd7>\"\u001b[0;36m, line \u001b[0;32m5\u001b[0m\n\u001b[0;31m    print \"%.3f\"%(l)\u001b[0m\n\u001b[0m               ^\u001b[0m\n\u001b[0;31mSyntaxError\u001b[0m\u001b[0;31m:\u001b[0m invalid syntax\n"
     ]
    }
   ],
   "source": [
    "kpc2nat = 3.0857e19 /1.973e-7\n",
    "\n",
    "\n",
    "l = 0.5*kpc2nat/(2*cp.pi/10**(-21.5)/vp)\n",
    "print(\"%.3f\"%(l))"
   ]
  },
  {
   "cell_type": "code",
   "execution_count": 32,
   "metadata": {},
   "outputs": [],
   "source": [
    "corr = cp.ndarray((10,6))\n",
    "Dis = cp.array([0.01,0.02,0.04,0.08,0.16,0.32,0.64,1.28,2.56,5.12])\n",
    "\n",
    "corr[0,:] = cp.array([0.9976607022205033, 0.0037676705818899463, 0.9327020080089024, 0.007450448389243849, -0.009171508248407718, 0.005356242440316161])\n",
    "corr[1,:] = cp.array([0.99106258203287, 0.011099269792954449, 0.9012317040062288, 0.004039380559944105, -0.0034537435583275934, 0.004679418272634157])\n",
    "corr[2,:] = cp.array([0.9643100923845139, -0.000992748126691237, 0.7965985256746666, -0.01105591066757477, 0.00970309745521556, 0.009073964597856511])\n",
    "corr[3,:] = cp.array([0.8623397830753567, 0.007114731531677067, 0.6580210721689032, 0.006986199182822402, -0.001957350351134233, 0.013300395224419708])\n",
    "corr[4,:] = cp.array([0.5721820929063567, -0.007412828990754051, 0.43119528453945477, -0.0036480322991355608, 0.005106476076536831, -0.003291443323211755])\n",
    "corr[5,:] = cp.array([0.11629739390099995, 0.0059398877230059325, 0.17160920059913792, -0.007730739043007247, -0.015587786942008451, 0.004431751607055087])\n",
    "corr[6,:] = cp.array([0.0004846887852723556, 0.00923196440467667, 0.008129350252005289, 0.002672610405310479, -0.014295219328776707, 0.014190959985873657])\n",
    "corr[7,:] = cp.array([0.007517423340686037, 0.020655454466178978, -0.0008678267229125785, 0.005190865100771142, -0.018050857571350856, 0.004259351720611055])\n",
    "corr[8,:] = cp.array([-0.009911551109561472, 0.019040773634095867, -0.004305765239621097, -0.008191116532864086, 0.00571505800291175, -0.021481308743130006])\n",
    "corr[9,:] = cp.array([0.00997750749582416, 0.012745851516836933, -0.008872693213043598, 0.0048421096593427556, 0.00752769696005557, 0.0009189869377229605])\n",
    "\n",
    "\n",
    "\n",
    "\n",
    "perc235=cp.array([0.039,0.118])\n",
    "perc23=cp.array([0.124,0.373])\n",
    "perc225=cp.array([0.393,1.181])\n",
    "perc22=cp.array([1.245,3.734])\n",
    "\n",
    "\n"
   ]
  },
  {
   "cell_type": "code",
   "execution_count": 34,
   "metadata": {},
   "outputs": [
    {
     "data": {
      "image/png": "[encoded data removed]",
      "text/plain": [
       "<Figure size 432x288 with 1 Axes>"
      ]
     },
     "metadata": {
      "needs_background": "light"
     },
     "output_type": "display_data"
    }
   ],
   "source": [
    "corr = cp.asnumpy(corr)\n",
    "Dis = cp.asnumpy(Dis)\n",
    "perc235 = cp.asnumpy(perc235)\n",
    "perc23 = cp.asnumpy(perc23)\n",
    "perc225 = cp.asnumpy(perc225)\n",
    "perc22 = cp.asnumpy(perc22)\n",
    "\n",
    "plt.figure(figsize=(6,4))\n",
    "ll = -0.1\n",
    "hl = 1.19\n",
    "lel = 10**-1.8\n",
    "ril = 10**0.7\n",
    "plt.ylim([ll,hl])\n",
    "plt.xlim([lel,ril])\n",
    "\n",
    "plt.semilogx(Dis,corr[:,0],label=\"$A_{0,x},A_{0,x}$\",linewidth=3);\n",
    "plt.semilogx(Dis,corr[:,1],label=\"$A_{0,x},A_{0,y}$\",linewidth=3);\n",
    "plt.semilogx(Dis,corr[:,2],label=\"$\\phi_{x},\\phi_{x}$\",linewidth=3);\n",
    "plt.semilogx(Dis,corr[:,3],label=\"$\\phi_{x},\\phi_{y}$\",linewidth=3);\n",
    "plt.semilogx(Dis,corr[:,4],label=\"$A_{0,x},\\phi_{x}$\",linewidth=3);\n",
    "plt.semilogx(Dis,corr[:,5],label=\"$A_{0,x},\\phi_{y}$\",linewidth=3);\n",
    "\n",
    "plt.plot([lel,ril],[0,0],'k--')\n",
    "plt.plot([lel,ril],[1,1],'k--')\n",
    "\n",
    "plt.fill_between(perc235,[hl,hl],[ll,ll],facecolor='gold',alpha=0.2)\n",
    "plt.fill_between(perc23,[hl,hl],[ll,ll],facecolor='gold',alpha=0.3)\n",
    "plt.fill_between(perc225,[hl,hl],[ll,ll],facecolor='gold',alpha=0.4)\n",
    "plt.fill_between(perc22,[hl,hl],[ll,ll],facecolor='gold',alpha=0.5)\n",
    "\n",
    "\n",
    "plt.annotate(\"$m =$\",horizontalalignment=\"right\",xy=[perc235[0]*0.9,1.05],xycoords='data',size=15)\n",
    "plt.annotate(\"$10^{-23.5}$eV\",horizontalalignment=\"left\",xy=[perc235[0],1.05],xycoords='data',size=12)\n",
    "plt.annotate(\"$10^{-23}$eV\",horizontalalignment=\"left\",xy=[perc23[0],1.05],xycoords='data',size=12)\n",
    "plt.annotate(\"$10^{-22.5}$eV\",horizontalalignment=\"left\",xy=[perc225[0],1.05],xycoords='data',size=12)\n",
    "plt.annotate(\"$10^{-22}$eV\",horizontalalignment=\"left\",xy=[perc22[0],1.05],xycoords='data',size=12)\n",
    "\n",
    "\n",
    "\n",
    "plt.xlabel(\"$|x-y|/\\lambda_{dB}$\")\n",
    "plt.ylabel(\"$corr(X,Y)$\")\n",
    "plt.legend()\n",
    "plt.savefig('SpatialCorr.pdf')"
   ]
  },
  {
   "cell_type": "code",
   "execution_count": null,
   "metadata": {},
   "outputs": [],
   "source": []
  }
 ],
 "metadata": {
  "kernelspec": {
   "display_name": "Python 3",
   "language": "python",
   "name": "python3"
  },
  "language_info": {
   "codemirror_mode": {
    "name": "ipython",
    "version": 3
   },
   "file_extension": ".py",
   "mimetype": "text/x-python",
   "name": "python",
   "nbconvert_exporter": "python",
   "pygments_lexer": "ipython3",
   "version": "3.7.4"
  }
 },
 "nbformat": 4,
 "nbformat_minor": 2
}
