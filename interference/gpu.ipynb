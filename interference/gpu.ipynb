{
 "cells": [
  {
   "cell_type": "code",
   "execution_count": 2,
   "metadata": {
    "scrolled": true
   },
   "outputs": [],
   "source": [
    "import numpy as np\n",
    "import cupy as cp\n",
    "import time\n",
    "import scipy.stats as ss\n",
    " \n"
   ]
  },
  {
   "cell_type": "code",
   "execution_count": 3,
   "metadata": {},
   "outputs": [
    {
     "name": "stdout",
     "output_type": "stream",
     "text": [
      "average time for 20 times cpu: 3.5672032833099365\n",
      "average time for 20 times gpu: 0.002892017364501953\n"
     ]
    }
   ],
   "source": [
    "x=np.ones((1024,512,4,4))*1024.\n",
    "y=np.ones((1024,512,4,1))*512.3254\n",
    "time1=time.time()\n",
    "for i in range(200):\n",
    "    z=x*y\n",
    "print('average time for 20 times cpu:',(time.time()-time1))\n",
    " \n",
    "x=cp.ones((1024,512,4,4))*1024.\n",
    "y=cp.ones((1024,512,4,1))*512.3254\n",
    "time1=time.time()\n",
    "for i in range(200):\n",
    "    z=x*y\n",
    "print('average time for 20 times gpu:',(time.time()-time1))"
   ]
  },
  {
   "cell_type": "code",
   "execution_count": 65,
   "metadata": {},
   "outputs": [
    {
     "name": "stdout",
     "output_type": "stream",
     "text": [
      "average time for 20 times cpu: 0.0616607666015625\n",
      "average time for 20 times gpu: 0.19858169555664062\n"
     ]
    }
   ],
   "source": [
    "time1=time.time()\n",
    "for i in range(2000):\n",
    "    phi=np.random.uniform(size=(256,4))\n",
    "    t=np.sin(phi)\n",
    "    x=t*phi**2\n",
    "    z=np.sum(x)\n",
    "print('average time for 20 times cpu:',(time.time()-time1))\n",
    "\n",
    "\n",
    "time1=time.time()\n",
    "for i in range(2000):\n",
    "    phi=cp.random.uniform(size=(256,4))\n",
    "    t=cp.sin(phi)\n",
    "    x=t*phi**2\n",
    "    z=cp.sum(x)\n",
    "print('average time for 20 times gpu:',(time.time()-time1))\n"
   ]
  },
  {
   "cell_type": "code",
   "execution_count": null,
   "metadata": {},
   "outputs": [],
   "source": []
  }
 ],
 "metadata": {
  "kernelspec": {
   "display_name": "Python 3",
   "language": "python",
   "name": "python3"
  },
  "language_info": {
   "codemirror_mode": {
    "name": "ipython",
    "version": 3
   },
   "file_extension": ".py",
   "mimetype": "text/x-python",
   "name": "python",
   "nbconvert_exporter": "python",
   "pygments_lexer": "ipython3",
   "version": "3.7.4"
  }
 },
 "nbformat": 4,
 "nbformat_minor": 2
}
