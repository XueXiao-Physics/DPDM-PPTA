{
 "cells": [
  {
   "cell_type": "code",
   "execution_count": null,
   "metadata": {},
   "outputs": [],
   "source": [
    "import glob\n",
    "import sys\n",
    "import numpy as np\n",
    "\n",
    "from enterprise.pulsar import Pulsar\n",
    "from enterprise.signals import signal_base\n",
    "from enterprise.signals import parameter\n",
    "from enterprise.signals import white_signals\n",
    "from enterprise.signals import gp_signals\n",
    "from enterprise.signals import deterministic_signals\n",
    "\n",
    "import dpdm_delay\n",
    "\n",
    "# import customized files to introduce 2T modes.\n",
    "import gp_bases_new as gp_bases\n",
    "import pl_prior_new as gp_priors\n",
    "\n",
    "from enterprise.signals import selections\n",
    "\n",
    "import multiprocess\n",
    "from PTMCMCSampler.PTMCMCSampler import PTSampler\n"
   ]
  },
  {
   "cell_type": "code",
   "execution_count": null,
   "metadata": {
    "scrolled": true
   },
   "outputs": [],
   "source": [
    "datadir = 'DR2'\n",
    "\n",
    "parfiles = sorted(glob.glob(datadir + '/newpars/*.par'))\n",
    "timfiles = sorted(glob.glob(datadir + '/toas/*.tim'))"
   ]
  },
  {
   "cell_type": "code",
   "execution_count": null,
   "metadata": {
    "scrolled": true
   },
   "outputs": [],
   "source": [
    "psrs=[]\n",
    "for ipsr in range(len(parfiles)):\n",
    "    psr = Pulsar(parfiles[ipsr], timfiles[ipsr],ephem=\"DE436\",clk=\"TT(BIPM2018)\")\n",
    "    psrs.append(psr)\n",
    "    print(psr.name)"
   ]
  },
  {
   "cell_type": "code",
   "execution_count": null,
   "metadata": {},
   "outputs": [],
   "source": [
    "# red noise\n",
    "nmodes = 30\n",
    "\n",
    "\n",
    "log10_A = parameter.Constant()\n",
    "gamma = parameter.Constant()\n",
    "pl = gp_priors.powerlaw(log10_A=log10_A, gamma=gamma)\n",
    "dm_basis = gp_bases.createfourierdesignmatrix_dm(nmodes=nmodes)\n",
    "red_basis = gp_bases.createfourierdesignmatrix_red(nmodes=nmodes)\n",
    "selection = selections.Selection(selections.by_band)\n",
    "\n",
    "dmn = gp_signals.BasisGP(pl, dm_basis, name='dm', coefficients=False)\n",
    "spn = gp_signals.BasisGP(pl, red_basis, name='sp',coefficients=False)\n",
    "bdn = gp_signals.BasisGP(pl, red_basis, name='bd',coefficients=False,selection=selection)\n",
    "\n",
    "# white noise\n",
    "backend = selections.Selection(selections.by_backend)\n",
    "efac = parameter.Constant()\n",
    "equad = parameter.Constant()\n",
    "\n",
    "ef = white_signals.MeasurementNoise(efac=efac,selection=backend)\n",
    "eq = white_signals.EquadNoise(log10_equad=equad,selection=backend)\n",
    "wnb = ef + eq\n",
    "\n",
    "# timing model\n",
    "tm = gp_signals.TimingModel()\n",
    "\n",
    "# Bayes ephmeris\n",
    "eph = deterministic_signals.PhysicalEphemerisSignal(use_epoch_toas=True)\n",
    "\n",
    "\n",
    "# include best fit parameters\n",
    "Dict = np.load('noise_params/noisepars_m'+str(nmodes)+'.npy',allow_pickle=True,encoding='bytes').item()\n",
    "len(Dict)"
   ]
  },
  {
   "cell_type": "markdown",
   "metadata": {},
   "source": [
    "## Prepare for Bayes Limits"
   ]
  },
  {
   "cell_type": "code",
   "execution_count": null,
   "metadata": {},
   "outputs": [],
   "source": [
    "def single_task(log10_ma, name, ret, model, test=False):\n",
    "    \n",
    "        np.random.seed()\n",
    "    \n",
    "        log10_eps = parameter.Uniform(-28.0, -16.0)('x_dp_log10_eps')\n",
    "        dp = dpdm_delay.dpdm_block(model=model,log10_ma=log10_ma,log10_eps=log10_eps)\n",
    "\n",
    "        model0  = tm + wnb + dmn + spn + eph + dp\n",
    "        model1  = tm + wnb + dmn + spn + eph + dp + bdn\n",
    "\n",
    "        signal=[]\n",
    "        for psr in psrs:\n",
    "            if psr.name in ['J0437-4715','J1939+2134']:\n",
    "                signal.append( model1( psr ) )\n",
    "            else:\n",
    "                signal.append( model0( psr ) )\n",
    "\n",
    "        pta = signal_base.PTA(signal)\n",
    "        pta.set_default_params(Dict)\n",
    "        if test == True:\n",
    "            return pta\n",
    "\n",
    "        #outDir=\"bayes/\"+model+\"_m\"+str(nmodes)+\"/n\"+str(i).zfill(3)+'/'\n",
    "        outDir=\"bayes/\"+model+\"_m\"+str(nmodes)+'/'+name+'/'\n",
    "#============================\n",
    "        # to make the initial values\n",
    "        xs = {par.name:par.sample() for par in pta.params}\n",
    "        for parname in Dict.keys():\n",
    "            if parname in xs.keys():\n",
    "                xs[parname] = Dict[parname]\n",
    "        \n",
    "        x0 = np.hstack([xs[key] for key in sorted(xs.keys())])    \n",
    "        ndim = len(x0)\n",
    "#============================\n",
    "\n",
    "        x0[-19:-8] = 0.\n",
    "        x0[-8] = -26.\n",
    "        \n",
    "        groups=[range(ndim),range(ndim-8,ndim)]\n",
    "        \n",
    "        print(pta.get_lnlikelihood(x0))\n",
    "        \n",
    "        \n",
    "        covdiag = np.ones(ndim)*0.01\n",
    "\n",
    "        sampler = PTSampler(ndim, pta.get_lnlikelihood, pta.get_lnprior,\n",
    "                        cov=np.diag(covdiag),outDir=outDir,groups=groups,resume=False)\n",
    "\n",
    "        sampler.sample(x0, 40000, isave=1000)\n",
    "        \n",
    "        #chain=np.loadtxt(outDir+'/chain_1.txt')\n",
    "\n",
    "        #logep=chain[int(0.8*len(chain)):,-12]\n",
    "\n",
    "        #ret.value = np.percentile(logep,95)\n"
   ]
  },
  {
   "cell_type": "markdown",
   "metadata": {},
   "source": [
    "## Run the code"
   ]
  },
  {
   "cell_type": "code",
   "execution_count": null,
   "metadata": {},
   "outputs": [],
   "source": [
    "for names in [\"C\",\"D\",\"E\"]:\n",
    "    for j in range(7):\n",
    "        a = 0 + 12*j\n",
    "        b = 12 + 12*j\n",
    "\n",
    "        print(a,b,nmodes)\n",
    "\n",
    "        jobs = []\n",
    "        RETs={}\n",
    "\n",
    "        for i in range(a,b): \n",
    "\n",
    "            RETs[i] = multiprocess.Manager().Value('i',0)\n",
    "\n",
    "            logmamin = -23.5 + 2.5 * float(i) / float(125)\n",
    "            logmamax = -23.5 + 2.5 * float(i+1) / float(125)\n",
    "\n",
    "            log10_ma = parameter.Uniform(logmamin,logmamax)('x_dp_log10_ma')#n=0~99\n",
    "\n",
    "            p = multiprocess.Process(target=single_task, args=(log10_ma, names+str(i).zfill(3) , RETs[i] , \"U1BL\" ))\n",
    "\n",
    "            jobs.append(p)\n",
    "\n",
    "            p.start()\n",
    "\n",
    "\n",
    "        for p in jobs:\n",
    "\n",
    "            p.join()\n",
    "    \n"
   ]
  }
 ],
 "metadata": {
  "kernelspec": {
   "display_name": "Python 3",
   "language": "python",
   "name": "python3"
  },
  "language_info": {
   "codemirror_mode": {
    "name": "ipython",
    "version": 3
   },
   "file_extension": ".py",
   "mimetype": "text/x-python",
   "name": "python",
   "nbconvert_exporter": "python",
   "pygments_lexer": "ipython3",
   "version": "3.7.4"
  }
 },
 "nbformat": 4,
 "nbformat_minor": 2
}
