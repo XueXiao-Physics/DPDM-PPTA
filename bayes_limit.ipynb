{
 "cells": [
  {
   "cell_type": "code",
   "execution_count": 1,
   "metadata": {},
   "outputs": [
    {
     "name": "stderr",
     "output_type": "stream",
     "text": [
      "WARNING: enterprise.signals.signal_base: No sksparse library. Using scipy instead!\n"
     ]
    },
    {
     "name": "stdout",
     "output_type": "stream",
     "text": [
      "You'll need sksparse for get_coefficients() with common signals!\n",
      "Cannot import PINT? Meh...\n",
      "Do not have mpi4py package.\n"
     ]
    }
   ],
   "source": [
    "import glob\n",
    "import sys\n",
    "import numpy as np\n",
    "np.seterr(divide = 'ignore')\n",
    "\n",
    "from enterprise.pulsar import Pulsar\n",
    "from enterprise.signals import signal_base\n",
    "from enterprise.signals import parameter\n",
    "from enterprise.signals import white_signals\n",
    "from enterprise.signals import gp_signals\n",
    "from enterprise.signals import deterministic_signals\n",
    "\n",
    "import dpdm_delay\n",
    "\n",
    "# import customized files to introduce 2T modes.\n",
    "import gp_bases_new as gp_bases\n",
    "import pl_prior as gp_priors\n",
    "\n",
    "from enterprise.signals import selections\n",
    "\n",
    "import multiprocess\n",
    "from PTMCMCSampler.PTMCMCSampler import PTSampler\n"
   ]
  },
  {
   "cell_type": "code",
   "execution_count": 2,
   "metadata": {},
   "outputs": [
    {
     "name": "stdout",
     "output_type": "stream",
     "text": [
      "J0437-4715\n",
      "J0613-0200\n",
      "J0711-6830\n"
     ]
    },
    {
     "name": "stderr",
     "output_type": "stream",
     "text": [
      "WARNING: enterprise.pulsar: WARNING: Could not find pulsar distance for PSR J1017-7156. Setting value to 1 with 20% uncertainty.\n"
     ]
    },
    {
     "name": "stdout",
     "output_type": "stream",
     "text": [
      "J1017-7156\n",
      "J1022+1001\n",
      "J1024-0719\n",
      "J1045-4509\n"
     ]
    },
    {
     "name": "stderr",
     "output_type": "stream",
     "text": [
      "WARNING: enterprise.pulsar: WARNING: Could not find pulsar distance for PSR J1125-6014. Setting value to 1 with 20% uncertainty.\n"
     ]
    },
    {
     "name": "stdout",
     "output_type": "stream",
     "text": [
      "J1125-6014\n"
     ]
    },
    {
     "name": "stderr",
     "output_type": "stream",
     "text": [
      "WARNING: enterprise.pulsar: WARNING: Could not find pulsar distance for PSR J1446-4701. Setting value to 1 with 20% uncertainty.\n"
     ]
    },
    {
     "name": "stdout",
     "output_type": "stream",
     "text": [
      "J1446-4701\n"
     ]
    },
    {
     "name": "stderr",
     "output_type": "stream",
     "text": [
      "WARNING: enterprise.pulsar: WARNING: Could not find pulsar distance for PSR J1545-4550. Setting value to 1 with 20% uncertainty.\n"
     ]
    },
    {
     "name": "stdout",
     "output_type": "stream",
     "text": [
      "J1545-4550\n",
      "J1600-3053\n",
      "J1603-7202\n",
      "J1643-1224\n",
      "J1713+0747\n",
      "J1730-2304\n",
      "J1732-5049\n",
      "J1744-1134\n"
     ]
    },
    {
     "name": "stderr",
     "output_type": "stream",
     "text": [
      "WARNING: enterprise.pulsar: WARNING: Could not find pulsar distance for PSR J1832-0836. Setting value to 1 with 20% uncertainty.\n"
     ]
    },
    {
     "name": "stdout",
     "output_type": "stream",
     "text": [
      "J1824-2452A\n",
      "J1832-0836\n",
      "J1857+0943\n",
      "J1909-3744\n",
      "J1939+2134\n",
      "J2124-3358\n",
      "J2129-5721\n",
      "J2145-0750\n"
     ]
    },
    {
     "name": "stderr",
     "output_type": "stream",
     "text": [
      "WARNING: enterprise.pulsar: WARNING: Could not find pulsar distance for PSR J2241-5236. Setting value to 1 with 20% uncertainty.\n"
     ]
    },
    {
     "name": "stdout",
     "output_type": "stream",
     "text": [
      "J2241-5236\n"
     ]
    }
   ],
   "source": [
    "datadir = 'DR2'\n",
    "parfiles = sorted(glob.glob(datadir + '/newpars/*.par'))\n",
    "timfiles = sorted(glob.glob(datadir + '/toas/*.tim'))\n",
    "\n",
    "psrs=[]\n",
    "for ipsr in range(len(parfiles)):\n",
    "    psr = Pulsar(parfiles[ipsr], timfiles[ipsr])\n",
    "    psrs.append(psr)\n",
    "    print(psr.name)"
   ]
  },
  {
   "cell_type": "code",
   "execution_count": 3,
   "metadata": {},
   "outputs": [],
   "source": [
    "# red noise\n",
    "nmodes = 30\n",
    "\n",
    "\n",
    "log10_A = parameter.Constant()\n",
    "gamma = parameter.Constant()\n",
    "pl = gp_priors.powerlaw(log10_A=log10_A, gamma=gamma)\n",
    "dm_basis = gp_bases.createfourierdesignmatrix_dm(nmodes=nmodes)\n",
    "red_basis = gp_bases.createfourierdesignmatrix_red(nmodes=nmodes)\n",
    "selection = selections.Selection(selections.by_band)\n",
    "\n",
    "dmn = gp_signals.BasisGP(pl, dm_basis, name='dm', coefficients=False)\n",
    "spn = gp_signals.BasisGP(pl, red_basis, name='sp',coefficients=False)\n",
    "bdn = gp_signals.BasisGP(pl, red_basis, name='bd',coefficients=False,selection=selection)\n",
    "\n",
    "# white noise\n",
    "backend = selections.Selection(selections.by_backend)\n",
    "efac = parameter.Constant()\n",
    "equad = parameter.Constant()\n",
    "\n",
    "ef = white_signals.MeasurementNoise(efac=efac,selection=backend)\n",
    "eq = white_signals.EquadNoise(log10_equad=equad,selection=backend)\n",
    "wnb = ef + eq\n",
    "\n",
    "# timing model\n",
    "tm = gp_signals.TimingModel()\n",
    "\n",
    "# Bayes ephmeris\n",
    "eph = deterministic_signals.PhysicalEphemerisSignal(use_epoch_toas=True)\n",
    "\n",
    "\n",
    "# include best fit parameters\n",
    "Dict = np.load('noise_params/noisepars_m'+str(nmodes)+'.npy',allow_pickle=True,encoding='bytes').item()"
   ]
  },
  {
   "cell_type": "code",
   "execution_count": 4,
   "metadata": {},
   "outputs": [],
   "source": [
    "def make_bins(n, nbins=125):\n",
    "    \n",
    "        logma_min,logma_max=-23.5 + 2.5 * n / nbins , -23.5 + 2.5*(n+1) / nbins\n",
    "        log10_ma=parameter.LinearExp(logma_min,logma_max)('x_dp_log10_ma')#n=0~99\n",
    "        return log10_ma\n",
    "\n",
    "#def fix_ma(n,nbins=250):\n",
    "#        logma=-23.5+2.5*float(n)/float(nbins)\n",
    "#        log10_ma=parameter.Constant(logma)('x_dp_log10_ma')#n=0~99\n",
    "#        return log10_ma"
   ]
  },
  {
   "cell_type": "code",
   "execution_count": 5,
   "metadata": {},
   "outputs": [],
   "source": [
    "def single_task(a, b, i, ret, model, test=False):\n",
    "    \n",
    "        np.random.seed()\n",
    "    \n",
    "        log10_ma = make_bins(i)\n",
    "        #log10_eps = dpdm_delay.parameter.LinearExp(-28,-16)('x_dp_log10_eps')\n",
    "        log10_eps = parameter.Uniform(-28.0, -16.0)('x_dp_log10_eps')\n",
    "        dp = dpdm_delay.dpdm_block(model=model,log10_ma=log10_ma)\n",
    "\n",
    "        model0  = tm + wnb + dmn + spn + eph + dp\n",
    "        model1  = tm + wnb + dmn + spn + eph + dp + bdn\n",
    "\n",
    "        signal=[]\n",
    "        for psr in psrs:\n",
    "            if psr.name in ['J0437-4715','J1939+2134']:\n",
    "                signal.append( model1( psr ) )\n",
    "            else:\n",
    "                signal.append( model0( psr ) )\n",
    "\n",
    "        pta = signal_base.PTA(signal)\n",
    "        pta.set_default_params(Dict)\n",
    "        if test == True:\n",
    "            return pta\n",
    "\n",
    "        outDir=\"bayes/\"+model+\"_m\"+str(nmodes)+\"/n\"+str(i).zfill(3)+'/'\n",
    "#============================\n",
    "        # to make the initial values\n",
    "        xs = {par.name:par.sample() for par in pta.params}\n",
    "        for parname in Dict.keys():\n",
    "            if parname in xs.keys():\n",
    "                xs[parname] = Dict[parname]\n",
    "        \n",
    "        x0 = np.hstack([xs[key] for key in sorted(xs.keys())])    \n",
    "        ndim = len(x0)\n",
    "#============================\n",
    "        x0[-19:-8] = 0.\n",
    "        x0[-8] = -25.\n",
    "        \n",
    "        groups=[]\n",
    "        groups.append(range(ndim-8,ndim))\n",
    "        groups.append(range(ndim))\n",
    "        \n",
    "        print(pta.get_lnlikelihood(x0))\n",
    "        \n",
    "        \n",
    "        covdiag = np.ones(ndim)*0.01\n",
    "\n",
    "        sampler = PTSampler(ndim, pta.get_lnlikelihood, pta.get_lnprior,\n",
    "                        cov=np.diag(covdiag),outDir=outDir,groups=groups,resume=False)\n",
    "\n",
    "        sampler.sample(x0, 60000, isave=1000)\n",
    "        \n",
    "        chain=np.loadtxt(outDir+'/chain_1.txt')\n",
    "\n",
    "        logep=chain[int(0.5*len(chain)):,-12]\n",
    "\n",
    "        ret.value = np.percentile(logep,95)\n"
   ]
  },
  {
   "cell_type": "code",
   "execution_count": null,
   "metadata": {
    "scrolled": true
   },
   "outputs": [
    {
     "name": "stdout",
     "output_type": "stream",
     "text": [
      "0 12\n",
      "model:U1B, ***correlated**\n",
      "model:U1B, ***correlated**\n",
      "model:U1B, ***correlated**\n",
      "model:U1B, ***correlated**\n",
      "model:U1B, ***correlated**\n",
      "model:U1B, ***correlated**\n",
      "model:U1B, ***correlated**\n",
      "model:U1B, ***correlated**\n",
      "model:U1B, ***correlated**\n",
      "model:U1B, ***correlated**\n",
      "model:U1B, ***correlated**\n",
      "model:U1B, ***correlated**\n"
     ]
    }
   ],
   "source": [
    "model=\"U1B_corr\"\n",
    "\n",
    "for j in range(7):\n",
    "    a = 0 + j*12\n",
    "    b = min(0 + (j+1)* 12,125)\n",
    "\n",
    "    print(a,b)\n",
    "\n",
    "    jobs = []\n",
    "    RETs={}\n",
    "    for i in range(a,b):        \n",
    "        RETs[i] = multiprocess.Manager().Value('i',0)\n",
    "        p = multiprocess.Process(target=single_task, args=(a,b,i,RETs[i],model))\n",
    "        jobs.append(p)\n",
    "        p.start()\n",
    "    for p in jobs:\n",
    "        p.join()\n",
    "    limits = [RET.value for RET in RETs.values()]\n",
    "\n",
    "\n",
    "#word = '_'.join(('bayes_limit/'+model,'m'+str(nmodes),str(a).zfill(3),str(b).zfill(3))) \n",
    "#np.save(word,limits)"
   ]
  },
  {
   "cell_type": "code",
   "execution_count": null,
   "metadata": {},
   "outputs": [],
   "source": []
  }
 ],
 "metadata": {
  "kernelspec": {
   "display_name": "Python 3",
   "language": "python",
   "name": "python3"
  },
  "language_info": {
   "codemirror_mode": {
    "name": "ipython",
    "version": 3
   },
   "file_extension": ".py",
   "mimetype": "text/x-python",
   "name": "python",
   "nbconvert_exporter": "python",
   "pygments_lexer": "ipython3",
   "version": "3.7.4"
  }
 },
 "nbformat": 4,
 "nbformat_minor": 2
}
