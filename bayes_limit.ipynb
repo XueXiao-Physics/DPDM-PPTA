{
 "cells": [
  {
   "cell_type": "code",
   "execution_count": 3,
   "metadata": {},
   "outputs": [
    {
     "name": "stdout",
     "output_type": "stream",
     "text": [
      "Do not have mpi4py package.\n",
      "Do not have acor package\n"
     ]
    }
   ],
   "source": [
    "import glob\n",
    "import sys\n",
    "import numpy as np\n",
    "\n",
    "from enterprise.pulsar import Pulsar\n",
    "from enterprise.signals import signal_base\n",
    "from enterprise.signals import parameter\n",
    "from enterprise.signals import white_signals\n",
    "from enterprise.signals import gp_signals\n",
    "from enterprise.signals import deterministic_signals\n",
    "\n",
    "import dpdm_delay\n",
    "\n",
    "# import customized files to introduce 2T modes.\n",
    "import gp_bases_new as gp_bases\n",
    "import pl_prior as gp_priors\n",
    "\n",
    "from enterprise.signals import selections\n",
    "\n",
    "import multiprocess\n",
    "from PTMCMCSampler.PTMCMCSampler import PTSampler\n"
   ]
  },
  {
   "cell_type": "code",
   "execution_count": 5,
   "metadata": {
    "scrolled": true
   },
   "outputs": [],
   "source": [
    "datadir = 'DR2'\n",
    "\n",
    "parfiles = sorted(glob.glob(datadir + '/newpars/*.par'))\n",
    "timfiles = sorted(glob.glob(datadir + '/toas/*.tim'))"
   ]
  },
  {
   "cell_type": "code",
   "execution_count": 6,
   "metadata": {},
   "outputs": [
    {
     "name": "stdout",
     "output_type": "stream",
     "text": [
      "J0437-4715\n",
      "J0613-0200\n",
      "J0711-6830\n"
     ]
    },
    {
     "name": "stderr",
     "output_type": "stream",
     "text": [
      "WARNING: enterprise.pulsar: WARNING: Could not find pulsar distance for PSR J1017-7156. Setting value to 1 with 20% uncertainty.\n"
     ]
    },
    {
     "name": "stdout",
     "output_type": "stream",
     "text": [
      "J1017-7156\n",
      "J1022+1001\n",
      "J1024-0719\n",
      "J1045-4509\n"
     ]
    },
    {
     "name": "stderr",
     "output_type": "stream",
     "text": [
      "WARNING: enterprise.pulsar: WARNING: Could not find pulsar distance for PSR J1125-6014. Setting value to 1 with 20% uncertainty.\n"
     ]
    },
    {
     "name": "stdout",
     "output_type": "stream",
     "text": [
      "J1125-6014\n"
     ]
    },
    {
     "name": "stderr",
     "output_type": "stream",
     "text": [
      "WARNING: enterprise.pulsar: WARNING: Could not find pulsar distance for PSR J1446-4701. Setting value to 1 with 20% uncertainty.\n"
     ]
    },
    {
     "name": "stdout",
     "output_type": "stream",
     "text": [
      "J1446-4701\n"
     ]
    },
    {
     "name": "stderr",
     "output_type": "stream",
     "text": [
      "WARNING: enterprise.pulsar: WARNING: Could not find pulsar distance for PSR J1545-4550. Setting value to 1 with 20% uncertainty.\n"
     ]
    },
    {
     "name": "stdout",
     "output_type": "stream",
     "text": [
      "J1545-4550\n",
      "J1600-3053\n",
      "J1603-7202\n",
      "J1643-1224\n",
      "J1713+0747\n",
      "J1730-2304\n",
      "J1732-5049\n",
      "J1744-1134\n",
      "J1824-2452A\n"
     ]
    },
    {
     "name": "stderr",
     "output_type": "stream",
     "text": [
      "WARNING: enterprise.pulsar: WARNING: Could not find pulsar distance for PSR J1832-0836. Setting value to 1 with 20% uncertainty.\n"
     ]
    },
    {
     "name": "stdout",
     "output_type": "stream",
     "text": [
      "J1832-0836\n",
      "J1857+0943\n",
      "J1909-3744\n",
      "J1939+2134\n",
      "J2124-3358\n",
      "J2129-5721\n",
      "J2145-0750\n"
     ]
    },
    {
     "name": "stderr",
     "output_type": "stream",
     "text": [
      "WARNING: enterprise.pulsar: WARNING: Could not find pulsar distance for PSR J2241-5236. Setting value to 1 with 20% uncertainty.\n"
     ]
    },
    {
     "name": "stdout",
     "output_type": "stream",
     "text": [
      "J2241-5236\n"
     ]
    }
   ],
   "source": [
    "psrs=[]\n",
    "for ipsr in range(len(parfiles)):\n",
    "    psr = Pulsar(parfiles[ipsr], timfiles[ipsr])\n",
    "    psrs.append(psr)\n",
    "    print(psr.name)"
   ]
  },
  {
   "cell_type": "code",
   "execution_count": 7,
   "metadata": {},
   "outputs": [],
   "source": [
    "# red noise\n",
    "nmodes = 30\n",
    "\n",
    "\n",
    "log10_A = parameter.Constant()\n",
    "gamma = parameter.Constant()\n",
    "pl = gp_priors.powerlaw(log10_A=log10_A, gamma=gamma)\n",
    "dm_basis = gp_bases.createfourierdesignmatrix_dm(nmodes=nmodes)\n",
    "red_basis = gp_bases.createfourierdesignmatrix_red(nmodes=nmodes)\n",
    "selection = selections.Selection(selections.by_band)\n",
    "\n",
    "dmn = gp_signals.BasisGP(pl, dm_basis, name='dm', coefficients=False)\n",
    "spn = gp_signals.BasisGP(pl, red_basis, name='sp',coefficients=False)\n",
    "bdn = gp_signals.BasisGP(pl, red_basis, name='bd',coefficients=False,selection=selection)\n",
    "\n",
    "# white noise\n",
    "backend = selections.Selection(selections.by_backend)\n",
    "efac = parameter.Constant()\n",
    "equad = parameter.Constant()\n",
    "\n",
    "ef = white_signals.MeasurementNoise(efac=efac,selection=backend)\n",
    "eq = white_signals.EquadNoise(log10_equad=equad,selection=backend)\n",
    "wnb = ef + eq\n",
    "\n",
    "# timing model\n",
    "tm = gp_signals.TimingModel()\n",
    "\n",
    "# Bayes ephmeris\n",
    "eph = deterministic_signals.PhysicalEphemerisSignal(use_epoch_toas=True)\n",
    "\n",
    "\n",
    "# include best fit parameters\n",
    "Dict = np.load('noise_params/noisepars_m'+str(nmodes)+'.npy',allow_pickle=True,encoding='bytes').item()"
   ]
  },
  {
   "cell_type": "markdown",
   "metadata": {},
   "source": [
    "## Prepare for Bayes Limits"
   ]
  },
  {
   "cell_type": "code",
   "execution_count": 8,
   "metadata": {},
   "outputs": [],
   "source": [
    "def make_bins(n, nbins=125):\n",
    "    \n",
    "        logma_min,logma_max=-23.5 + 2.5 * n / nbins , -23.5 + 2.5*(n+1) / nbins\n",
    "        log10_ma=parameter.LinearExp(logma_min,logma_max)('x_dp_log10_ma')#n=0~99\n",
    "        return log10_ma\n",
    "\n",
    "def fix_ma(n,nbins=250):\n",
    "        logma=-23.5+2.5*float(n)/float(nbins)\n",
    "        log10_ma=parameter.Constant(logma)('x_dp_log10_ma')#n=0~99\n",
    "        return log10_ma"
   ]
  },
  {
   "cell_type": "code",
   "execution_count": null,
   "metadata": {},
   "outputs": [],
   "source": [
    "def single_task(a, b, i, ret, model, test=False):\n",
    "    \n",
    "        np.random.seed()\n",
    "    \n",
    "        log10_ma = make_bins(i)\n",
    "        log10_eps = parameter.Uniform(-28.0, -16.0)('x_dp_log10_eps')\n",
    "        dp = dpdm_delay.dpdm_block(model=model,log10_ma=log10_ma,log10_eps=log10_eps)\n",
    "\n",
    "        model0  = tm + wnb + dmn + spn + eph + dp\n",
    "        model1  = tm + wnb + dmn + spn + eph + dp + bdn\n",
    "\n",
    "        signal=[]\n",
    "        for psr in psrs:\n",
    "            if psr.name in ['J0437-4715','J1939+2134']:\n",
    "                signal.append( model1( psr ) )\n",
    "            else:\n",
    "                signal.append( model0( psr ) )\n",
    "\n",
    "        pta = signal_base.PTA(signal)\n",
    "        pta.set_default_params(Dict)\n",
    "        if test == True:\n",
    "            return pta\n",
    "\n",
    "        #outDir=\"bayes/\"+model+\"_m\"+str(nmodes)+\"/n\"+str(i).zfill(3)+'/'\n",
    "        outDir=\"bayes/\"+model+\"_m\"+str(nmodes)+\"/n\"+str(i).zfill(3)+'/'\n",
    "#============================\n",
    "        # to make the initial values\n",
    "        xs = {par.name:par.sample() for par in pta.params}\n",
    "        for parname in Dict.keys():\n",
    "            if parname in xs.keys():\n",
    "                xs[parname] = Dict[parname]\n",
    "        \n",
    "        x0 = np.hstack([xs[key] for key in sorted(xs.keys())])    \n",
    "        ndim = len(x0)\n",
    "#============================\n",
    "\n",
    "        x0[-19:-8] = 0.\n",
    "        x0[-8] = -26.\n",
    "        \n",
    "        groups=[range(ndim),range(ndim-8,ndim)]\n",
    "        \n",
    "        print(pta.get_lnlikelihood(x0))\n",
    "        \n",
    "        \n",
    "        covdiag = np.ones(ndim)*0.01\n",
    "\n",
    "        sampler = PTSampler(ndim, pta.get_lnlikelihood, pta.get_lnprior,\n",
    "                        cov=np.diag(covdiag),outDir=outDir,groups=groups,resume=False)\n",
    "\n",
    "        sampler.sample(x0, 400000, isave=1000)\n",
    "        \n",
    "        #chain=np.loadtxt(outDir+'/chain_1.txt')\n",
    "\n",
    "        #logep=chain[int(0.8*len(chain)):,-12]\n",
    "\n",
    "        #ret.value = np.percentile(logep,95)\n"
   ]
  },
  {
   "cell_type": "markdown",
   "metadata": {},
   "source": [
    "## Run the code"
   ]
  },
  {
   "cell_type": "code",
   "execution_count": null,
   "metadata": {
    "scrolled": true
   },
   "outputs": [],
   "source": [
    "model=\"U1B\"\n",
    "\n",
    "a = 0\n",
    "b = 40\n",
    "\n",
    "print(a,b,nmodes)\n",
    "\n",
    "jobs = []\n",
    "RETs={}\n",
    "for i in range(a,b):        \n",
    "    RETs[i] = multiprocess.Manager().Value('i',0)\n",
    "    p = multiprocess.Process(target=single_task, args=(a,b,i,RETs[i],model))\n",
    "    jobs.append(p)\n",
    "    p.start()\n",
    "for p in jobs:\n",
    "    p.join()\n",
    "limits = [RET.value for RET in RETs.values()]"
   ]
  },
  {
   "cell_type": "markdown",
   "metadata": {},
   "source": [
    "# Stop Here.\n",
    "\n",
    "## Check EPH effect"
   ]
  },
  {
   "cell_type": "code",
   "execution_count": null,
   "metadata": {},
   "outputs": [],
   "source": [
    "dp = dpdm_delay.dpdm_block(model='U1B')\n",
    "\n",
    "model0  = tm + wnb + dmn + spn + eph + dp\n",
    "model1  = tm + wnb + dmn + spn + eph + dp + bdn\n",
    "signal=[]\n",
    "for psr in psrs:\n",
    "    if psr.name in ['J0437-4715','J1939+2134']:\n",
    "        signal.append( model1( psr ) )\n",
    "    else:\n",
    "        signal.append( model0( psr ) )\n",
    "\n",
    "PTA = signal_base.PTA(signal)\n",
    "PTA.set_default_params(Dict)"
   ]
  },
  {
   "cell_type": "code",
   "execution_count": null,
   "metadata": {
    "scrolled": true
   },
   "outputs": [],
   "source": [
    "dp = dpdm_delay.dpdm_block(model='U1B')\n",
    "\n",
    "model0  = tm + wnb + dmn + spn + eph \n",
    "model1  = tm + wnb + dmn + spn + eph + bdn\n",
    "signal=[]\n",
    "for psr in psrs:\n",
    "    if psr.name in ['J0437-4715','J1939+2134']:\n",
    "        signal.append( model1( psr ) )\n",
    "    else:\n",
    "        signal.append( model0( psr ) )\n",
    "\n",
    "PTA_eph = signal_base.PTA(signal)\n",
    "PTA_eph.set_default_params(Dict)\n",
    "\n"
   ]
  },
  {
   "cell_type": "code",
   "execution_count": null,
   "metadata": {},
   "outputs": [],
   "source": [
    "outDir=\"bayes/\"+\"_m\"+str(nmodes)+\"_EPH\"\n",
    "\n",
    "xs = {par.name:par.sample() for par in PTA_eph.params}\n",
    "for parname in Dict.keys():\n",
    "    if parname in xs.keys():\n",
    "        xs[parname] = Dict[parname]\n",
    "\n",
    "x0 = np.hstack([xs[key] for key in sorted(xs.keys())])    \n",
    "ndim = len(x0)\n",
    "#============================\n",
    "\n",
    "x0[0:11] = 0.\n",
    "\n",
    "groups=[range(ndim)]\n",
    "\n",
    "print(PTA_eph.get_lnlikelihood(x0))\n",
    "\n",
    "\n",
    "covdiag = np.ones(ndim)*0.01\n",
    "\n",
    "sampler = PTSampler(ndim, PTA_eph.get_lnlikelihood, PTA_eph.get_lnprior,\n",
    "                cov=np.diag(covdiag),outDir=outDir,groups=groups,resume=False)\n",
    "\n",
    "sampler.sample(x0, 100000, isave=1000)"
   ]
  },
  {
   "cell_type": "markdown",
   "metadata": {},
   "source": [
    "## Additional part, MLH contribution by pulsar"
   ]
  },
  {
   "cell_type": "code",
   "execution_count": null,
   "metadata": {
    "scrolled": true
   },
   "outputs": [],
   "source": [
    "# original\n",
    "dp = dpdm_delay.dpdm_block(model='U1B')\n",
    "\n",
    "\n",
    "model0  = tm + wnb + dmn + spn + eph + dp\n",
    "model1  = tm + wnb + dmn + spn + eph + dp + bdn\n",
    "signal=[]\n",
    "for psr in psrs:\n",
    "    if psr.name in ['J0437-4715','J1939+2134']:\n",
    "        signal.append( model1( psr ) )\n",
    "    else:\n",
    "        signal.append( model0( psr ) )\n",
    "\n",
    "PTA = signal_base.PTA(signal)\n",
    "PTA.set_default_params(Dict)"
   ]
  },
  {
   "cell_type": "code",
   "execution_count": null,
   "metadata": {
    "scrolled": true
   },
   "outputs": [],
   "source": [
    "model0  = tm + wnb + dmn + spn + dp + eph\n",
    "model1  = tm + wnb + dmn + spn + dp + eph + bdn\n",
    "ptas=[]\n",
    "for psr in psrs:\n",
    "    if psr.name in ['J0437-4715','J1939+2134']:\n",
    "        pta = signal_base.PTA(model1(psr))\n",
    "        pta.set_default_params(Dict)\n",
    "        ptas.append(pta)\n",
    "    else:\n",
    "        pta = signal_base.PTA(model0(psr))\n",
    "        pta.set_default_params(Dict)\n",
    "        ptas.append(pta)\n",
    "        \n",
    "dp = dpdm_delay.dpdm_block(model='U1B')\n"
   ]
  },
  {
   "cell_type": "code",
   "execution_count": null,
   "metadata": {},
   "outputs": [],
   "source": [
    "# load mlh results\n",
    "\n",
    "u1b_n106 = np.load('bayes/u1b_n106.npy')[0][0]\n",
    "u1b_n106 = PTA.map_params(u1b_n106)\n",
    "\n",
    "u1b_n091 = np.load('bayes/u1b_n091.npy')[0][0]\n",
    "u1b_n091 = PTA.map_params(u1b_n091)\n",
    "\n",
    "u1b_n105 = np.load('bayes/u1b_n105.npy')[0][0]\n",
    "u1b_n105 = PTA.map_params(u1b_n105)\n",
    "\n",
    "u1b_n102 = np.load('bayes/u1b_n102.npy')[0][0]\n",
    "u1b_n102 = PTA.map_params(u1b_n102)\n",
    "\n",
    "Null = {par.name:0 for par in PTA.params}\n",
    "Null['x_dp_log10_eps']=-80"
   ]
  },
  {
   "cell_type": "code",
   "execution_count": null,
   "metadata": {},
   "outputs": [],
   "source": [
    "print(PTA.get_lnlikelihood(u1b_n091),PTA.get_lnlikelihood(Null))\n",
    "\n",
    "mlhs1=[]\n",
    "for pta in ptas:\n",
    "    mlhs1.append(pta.get_lnlikelihood(u1b_n106)-pta.get_lnlikelihood(Null) )\n",
    "print(mlhs1)\n",
    "\n",
    "\n",
    "mlhs2=[]\n",
    "for pta in ptas:\n",
    "    mlhs2.append(pta.get_lnlikelihood(u1b_n091)-pta.get_lnlikelihood(Null) )\n",
    "print(mlhs2)\n",
    "\n",
    "mlhs3=[]\n",
    "for pta in ptas:\n",
    "    mlhs3.append(pta.get_lnlikelihood(u1b_n105)-pta.get_lnlikelihood(Null) )\n",
    "print(mlhs3)\n",
    "\n",
    "mlhs4=[]\n",
    "for pta in ptas:\n",
    "    mlhs4.append(pta.get_lnlikelihood(u1b_n102)-pta.get_lnlikelihood(Null) )\n",
    "print(mlhs4)\n",
    "\n",
    "names=[psr.name for psr in psrs]\n",
    "print(names)"
   ]
  },
  {
   "cell_type": "code",
   "execution_count": null,
   "metadata": {},
   "outputs": [],
   "source": [
    "import matplotlib.pyplot as plt\n",
    "plt.plot(mlhs1,'.')\n",
    "plt.plot(mlhs2,'.')\n",
    "plt.plot(mlhs3,'.')\n",
    "plt.plot(mlhs4,'.')"
   ]
  },
  {
   "cell_type": "code",
   "execution_count": null,
   "metadata": {},
   "outputs": [],
   "source": [
    "print(names[0],names[4],names[20],names[21],names[24],names[25])"
   ]
  },
  {
   "cell_type": "code",
   "execution_count": null,
   "metadata": {},
   "outputs": [],
   "source": [
    "mlhs1=[]\n",
    "for pta in ptas:\n",
    "    mlhs1.append(pta.get_lnlikelihood(u1b_n106)-pta.get_lnlikelihood(Null) )\n",
    "print(mlhs1)"
   ]
  }
 ],
 "metadata": {
  "kernelspec": {
   "display_name": "Python 3",
   "language": "python",
   "name": "python3"
  },
  "language_info": {
   "codemirror_mode": {
    "name": "ipython",
    "version": 3
   },
   "file_extension": ".py",
   "mimetype": "text/x-python",
   "name": "python",
   "nbconvert_exporter": "python",
   "pygments_lexer": "ipython3",
   "version": "3.7.6"
  }
 },
 "nbformat": 4,
 "nbformat_minor": 2
}
