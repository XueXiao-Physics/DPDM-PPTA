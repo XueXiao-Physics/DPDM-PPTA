{
 "cells": [
  {
   "cell_type": "code",
   "execution_count": null,
   "metadata": {},
   "outputs": [],
   "source": [
    "import glob\n",
    "import sys\n",
    "import numpy as np\n",
    "\n",
    "from enterprise.pulsar import Pulsar\n",
    "from enterprise.signals import signal_base\n",
    "from enterprise.signals import parameter\n",
    "from enterprise.signals import white_signals\n",
    "from enterprise.signals import gp_signals\n",
    "\n",
    "# import customized files to introduce 2T modes.\n",
    "import gp_bases_new as gp_bases\n",
    "import pl_prior as gp_priors\n",
    "\n",
    "from enterprise.signals import selections\n",
    "\n",
    "import multiprocess\n",
    "from PTMCMCSampler.PTMCMCSampler import PTSampler"
   ]
  },
  {
   "cell_type": "code",
   "execution_count": null,
   "metadata": {},
   "outputs": [],
   "source": [
    "def get_pulsar_noise(pta , ret, ro): \n",
    "\n",
    "        ndim = len(pta.params)\n",
    "\n",
    "                \n",
    "        groups0 = [[i,i+1] for i in range(0,ndim-1,2)]        \n",
    "        groups0.extend([range(ndim)])\n",
    "\n",
    "        groups1 = [range(ndim)]\n",
    "        outDir0='/home/xuex/DPDM-PPTA/noise_chain/first_run/'+pta.pulsars[0]\n",
    "        outDir1='/home/xuex/DPDM-PPTA/noise_chain/second_run/'+pta.pulsars[0]\n",
    "\n",
    "        if ro==False:\n",
    "                x0 = np.zeros(ndim)\n",
    "                x0=np.hstack([par.sample() for par in pta.params])\n",
    "                cov0 = np.diag(np.ones(ndim)*0.5)\n",
    "                \n",
    "                sampler = PTSampler(ndim, pta.get_lnlikelihood, pta.get_lnprior, \n",
    "                        cov0, groups=groups0 , outDir = outDir0, verbose=True)\n",
    "                print(pta.pulsars[0]+'***starts')\n",
    "                sampler.sample(x0, 50000,isave=1000)\n",
    "                chain0 = np.loadtxt(outDir0+'/chain_1.txt')\n",
    "\n",
    "\n",
    "\n",
    "                x1 = chain0[np.where(chain0==np.max(chain0[:,-3]))[0][0],:-4]\n",
    "                cov1 = np.load(outDir0 + '/cov.npy')\n",
    "                sampler = PTSampler(ndim, pta.get_lnlikelihood, pta.get_lnprior, \n",
    "                        cov1 , groups=groups1 , outDir=outDir1, verbose=True)\n",
    "                sampler.sample(x1, 100000, isave=1000)\n",
    "\n",
    "        chain1 = np.loadtxt(outDir1+'/chain_1.txt')\n",
    "\n",
    "        # End of the second run.\n",
    "\n",
    "\n",
    "        # Return the ln-likelihood value of the best fit(maximal likelihood).\n",
    "\n",
    "        MLHselect = chain1[np.where(chain1==np.max(chain1[:,-3]))[0][0],:]\n",
    "        Dict = {pta.params[i].name:MLHselect[i] for i in range(ndim)}\n",
    "        ret.value = (Dict,pta.get_lnlikelihood(Dict),pta.get_lnprior(Dict))\n",
    "        print(pta.pulsars[0]+'***finished')\n",
    "\n",
    "\n",
    "        # End of the function."
   ]
  },
  {
   "cell_type": "code",
   "execution_count": null,
   "metadata": {},
   "outputs": [],
   "source": [
    "datadir = 'DR2'\n",
    "parfiles = sorted(glob.glob(datadir + '/newpars/*.par'))\n",
    "timfiles = sorted(glob.glob(datadir + '/toas/*.tim'))"
   ]
  },
  {
   "cell_type": "code",
   "execution_count": null,
   "metadata": {},
   "outputs": [],
   "source": [
    "psrs=[]\n",
    "for ipsr in range(len(parfiles)):\n",
    "    psr = Pulsar(parfiles[ipsr], timfiles[ipsr], ephem=\"DE436\",clk=\"TT(BIPM2018)\")\n",
    "    psrs.append(psr)\n",
    "    print(psr.name)"
   ]
  },
  {
   "cell_type": "code",
   "execution_count": null,
   "metadata": {},
   "outputs": [],
   "source": [
    "\n",
    "# red noise\n",
    "nmodes = 30\n",
    "\n",
    "\n",
    "log10_A = parameter.Uniform(-21,-9)\n",
    "gamma = parameter.Uniform(0,7)\n",
    "pl = gp_priors.powerlaw(log10_A=log10_A, gamma=gamma)\n",
    "dm_basis = gp_bases.createfourierdesignmatrix_dm(nmodes=nmodes)\n",
    "red_basis = gp_bases.createfourierdesignmatrix_red(nmodes=nmodes)\n",
    "selection = selections.Selection(selections.by_band)\n",
    "\n",
    "dmn = gp_signals.BasisGP(pl, dm_basis, name='dm', coefficients=False)\n",
    "spn = gp_signals.BasisGP(pl, red_basis, name='sp',coefficients=False)\n",
    "bdn = gp_signals.BasisGP(pl, red_basis, name='bd',coefficients=False,selection=selection)\n",
    "\n",
    "# white noise\n",
    "backend = selections.Selection(selections.by_backend)\n",
    "efac = parameter.Uniform(0.01, 10.0)\n",
    "equad = parameter.Uniform(-8.5, -5)\n",
    "\n",
    "ef = white_signals.MeasurementNoise(efac=efac,selection=backend)\n",
    "eq = white_signals.EquadNoise(log10_equad=equad,selection=backend)\n",
    "wnb = ef + eq\n",
    "\n",
    "# timing model\n",
    "tm = gp_signals.TimingModel()"
   ]
  },
  {
   "cell_type": "code",
   "execution_count": null,
   "metadata": {},
   "outputs": [],
   "source": [
    "model0  = tm + wnb + dmn + spn\n",
    "model1  = tm + wnb + dmn + spn + bdn\n",
    "ptas=[]\n",
    "for psr in psrs:\n",
    "        if psr.name in ['J0437-4715','J1939+2134']:\n",
    "                pta=signal_base.PTA( model1(psr) )\n",
    "        else:\n",
    "                pta=signal_base.PTA( model0(psr) )\n",
    "        ptas.append(pta)\n",
    "        print(psr.name)"
   ]
  },
  {
   "cell_type": "code",
   "execution_count": null,
   "metadata": {
    "scrolled": true
   },
   "outputs": [],
   "source": [
    "jobs = []\n",
    "RETs={}        \n",
    "for i in range(len(psrs)):\n",
    "        RETs[i] = multiprocess.Manager().Value('i',0)\n",
    "        p = multiprocess.Process(target=get_pulsar_noise, args=(ptas[i],RETs[i],False))\n",
    "        jobs.append(p)\n",
    "        p.start()\n",
    "for p in jobs:\n",
    "        p.join()\n",
    "\n",
    "\n",
    "# Return the sum of the Maximal Likelihood values.\n",
    "\n",
    "MLHselect = [RET.value for RET in RETs.values()]"
   ]
  },
  {
   "cell_type": "code",
   "execution_count": null,
   "metadata": {},
   "outputs": [],
   "source": [
    "# Parameter dictionary, save the best fit noise parameters.\n",
    "'''\n",
    "Dict = {}\n",
    "for x in MLHselect:\n",
    "        Dict.update(x[0])\n",
    "\n",
    "np.save('noise_chain/noisepars_m'+str(nmodes),Dict)\n",
    "'''"
   ]
  }
 ],
 "metadata": {
  "kernelspec": {
   "display_name": "Python 3",
   "language": "python",
   "name": "python3"
  },
  "language_info": {
   "codemirror_mode": {
    "name": "ipython",
    "version": 3
   },
   "file_extension": ".py",
   "mimetype": "text/x-python",
   "name": "python",
   "nbconvert_exporter": "python",
   "pygments_lexer": "ipython3",
   "version": "3.7.4"
  }
 },
 "nbformat": 4,
 "nbformat_minor": 2
}
